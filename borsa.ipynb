{
 "cells": [
  {
   "cell_type": "markdown",
   "id": "50bb55fd",
   "metadata": {},
   "source": [
    "Fetching Live Stock Price Using Alpha Vantage API\n"
   ]
  },
  {
   "cell_type": "code",
   "execution_count": 4,
   "id": "f7cad4b3",
   "metadata": {},
   "outputs": [
    {
     "name": "stdout",
     "output_type": "stream",
     "text": [
      "Fiat: 282.0100\n"
     ]
    }
   ],
   "source": [
    "import requests\n",
    "\n",
    "def get_stock_data():\n",
    "    url = \"https://www.alphavantage.co/query?function=TIME_SERIES_INTRADAY&symbol=IBM&interval=5min&outputsize=full&apikey=demo\"\n",
    "    response = requests.get(url)\n",
    "    \n",
    "    if response.status_code == 200:\n",
    "        data = response.json()\n",
    "        last_refreshed = data[\"Meta Data\"][\"3. Last Refreshed\"]\n",
    "        price = data[\"Time Series (5min)\"][last_refreshed][\"1. open\"]\n",
    "        return price\n",
    "    else:\n",
    "        return None\n",
    "\n",
    "price = get_stock_data()\n",
    "symbol = \"Fiat\"\n",
    "if price is not None:\n",
    "    print(f\"{symbol}: {price}\")\n",
    "else:\n",
    "    print(\"Failed to retrieve data.\")"
   ]
  },
  {
   "cell_type": "markdown",
   "id": "26bd6758",
   "metadata": {},
   "source": [
    "Fetching News Headlines Using NewsAPI"
   ]
  },
  {
   "cell_type": "code",
   "execution_count": 6,
   "id": "20383fae",
   "metadata": {},
   "outputs": [
    {
     "ename": "ModuleNotFoundError",
     "evalue": "No module named 'claves.py'; 'claves' is not a package",
     "output_type": "error",
     "traceback": [
      "\u001b[31m---------------------------------------------------------------------------\u001b[39m",
      "\u001b[31mModuleNotFoundError\u001b[39m                       Traceback (most recent call last)",
      "\u001b[36mCell\u001b[39m\u001b[36m \u001b[39m\u001b[32mIn[6]\u001b[39m\u001b[32m, line 2\u001b[39m\n\u001b[32m      1\u001b[39m \u001b[38;5;28;01mimport\u001b[39;00m\u001b[38;5;250m \u001b[39m\u001b[34;01mrequests\u001b[39;00m\n\u001b[32m----> \u001b[39m\u001b[32m2\u001b[39m \u001b[38;5;28;01mfrom\u001b[39;00m\u001b[38;5;250m \u001b[39m\u001b[34;01mclaves\u001b[39;00m\u001b[34;01m.\u001b[39;00m\u001b[34;01mpy\u001b[39;00m\u001b[38;5;250m \u001b[39m\u001b[38;5;28;01mimport\u001b[39;00m chiave_borsa\n\u001b[32m      4\u001b[39m API_KEY = chiave_borsa\n\u001b[32m      5\u001b[39m url = \u001b[33mf\u001b[39m\u001b[33m\"\u001b[39m\u001b[33mhttps://newsapi.org/v2/top-headlines?country=us&category=business&apiKey=\u001b[39m\u001b[38;5;132;01m{\u001b[39;00mAPI_KEY\u001b[38;5;132;01m}\u001b[39;00m\u001b[33m\"\u001b[39m\n",
      "\u001b[31mModuleNotFoundError\u001b[39m: No module named 'claves.py'; 'claves' is not a package"
     ]
    }
   ],
   "source": [
    "import requests\n",
    "from claves.py import chiave_borsa\n",
    "\n",
    "API_KEY = chiave_borsa\n",
    "url = f\"https://newsapi.org/v2/top-headlines?country=us&category=business&apiKey={API_KEY}\"\n",
    "response = requests.get(url)\n",
    "print(response.status_code)"
   ]
  },
  {
   "cell_type": "code",
   "execution_count": null,
   "id": "e36571a0",
   "metadata": {},
   "outputs": [],
   "source": []
  }
 ],
 "metadata": {
  "kernelspec": {
   "display_name": ".conda",
   "language": "python",
   "name": "python3"
  },
  "language_info": {
   "codemirror_mode": {
    "name": "ipython",
    "version": 3
   },
   "file_extension": ".py",
   "mimetype": "text/x-python",
   "name": "python",
   "nbconvert_exporter": "python",
   "pygments_lexer": "ipython3",
   "version": "3.12.11"
  }
 },
 "nbformat": 4,
 "nbformat_minor": 5
}
